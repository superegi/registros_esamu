{
 "cells": [
  {
   "cell_type": "code",
   "execution_count": 1,
   "metadata": {},
   "outputs": [
    {
     "name": "stderr",
     "output_type": "stream",
     "text": [
      "/home/egidio/anaconda3/lib/python3.6/site-packages/statsmodels/compat/pandas.py:56: FutureWarning: The pandas.core.datetools module is deprecated and will be removed in a future version. Please use the pandas.tseries module instead.\n",
      "  from pandas.core import datetools\n"
     ]
    }
   ],
   "source": [
    "import pandas as pd\n",
    "import numpy as np\n",
    "import matplotlib.pyplot as plt\n",
    "import scipy \n",
    "from scipy import stats\n",
    "import statsmodels.api as sm\n",
    "from statsmodels.formula.api import ols\n",
    "import datetime as dt\n",
    "import datetime\n",
    "from datetime import timedelta  \n",
    "import timeboard as tb # turnos \n",
    "\n",
    "# para tratar de poner espanol\n",
    "from datetime import date, datetime, time\n",
    "from babel.dates import format_date, format_datetime, format_time, format_timedelta, Locale\n",
    "import locale                                    # para tratar de poner espanol\n",
    "#locale = Locale('es', 'CL')\n",
    "locale.setlocale(locale.LC_ALL,'es_ES.UTF-8')  \n",
    "\n",
    "import os\n",
    "import runpy\n",
    "from pyexcel_ods import get_data\n",
    "from matplotlib_venn import venn3\n",
    "from matplotlib_venn import venn2, venn2_circles\n",
    "import math\n",
    "\n",
    "from IPython.core.interactiveshell import InteractiveShell\n",
    "InteractiveShell.ast_node_interactivity = \"all\"\n",
    "%matplotlib inline\n",
    "\n",
    "\n",
    "#otro graficador\n",
    "import seaborn as sns\n",
    "\n",
    "#stats\n",
    "\n",
    "from sklearn.linear_model import LogisticRegression\n",
    "from sklearn import metrics\n",
    "from sklearn.model_selection import train_test_split\n",
    "from sklearn import model_selection\n",
    "from sklearn.model_selection import cross_val_score\n",
    "from sklearn.metrics import confusion_matrix\n",
    "from sklearn.metrics import classification_report"
   ]
  },
  {
   "cell_type": "markdown",
   "metadata": {},
   "source": [
    "# Importo fx locales"
   ]
  },
  {
   "cell_type": "code",
   "execution_count": 2,
   "metadata": {},
   "outputs": [
    {
     "data": {
      "text/plain": [
       "['/home/egidio/Dropbox/Compucosas/programas py/lector_ODF.py',\n",
       " '/home/egidio/Dropbox/Compucosas/programas py/como importar',\n",
       " '/home/egidio/Dropbox/Compucosas/programas py/descripcion_univariada.py',\n",
       " '/home/egidio/Dropbox/Compucosas/programas py/características_operativas_de_test.py',\n",
       " '/home/egidio/Dropbox/Compucosas/programas py/percentiles.py',\n",
       " '/home/egidio/Dropbox/Compucosas/programas py/tabala_frecuencias.py',\n",
       " '/home/egidio/Dropbox/Compucosas/programas py/__pycache__/percentiles.cpython-36.pyc',\n",
       " '/home/egidio/Dropbox/Compucosas/programas py/__pycache__/lector_ODF.cpython-36.pyc',\n",
       " '/home/egidio/Dropbox/Compucosas/programas py/__pycache__/descripcion_univariada.cpython-36.pyc',\n",
       " '/home/egidio/Dropbox/Compucosas/programas py/__pycache__/características_operativas_de_test.cpython-36.pyc',\n",
       " '/home/egidio/Dropbox/Compucosas/programas py/__pycache__/tabala_frecuencias.cpython-36.pyc',\n",
       " '/home/egidio/Dropbox/Compucosas/programas py/__pycache__/funciones_locales.cpython-36.pyc']"
      ]
     },
     "execution_count": 2,
     "metadata": {},
     "output_type": "execute_result"
    }
   ],
   "source": [
    "#listo los archivos\n",
    "scripts = []\n",
    "for dirname, dirnames, filenames in os.walk('/home/egidio/Dropbox/Compucosas/programas py'):\n",
    "    for filename in filenames:\n",
    "        scripts.append(os.path.join(dirname, filename))\n",
    "\n",
    "scripts\n",
    "\n",
    "# los cargo\n",
    "for script in scripts:\n",
    "    if script[-3:] == '.py':\n",
    "        exec(open(str(script)).read())\n"
   ]
  },
  {
   "cell_type": "markdown",
   "metadata": {},
   "source": [
    "# importo BD "
   ]
  },
  {
   "cell_type": "code",
   "execution_count": 3,
   "metadata": {},
   "outputs": [
    {
     "data": {
      "text/plain": [
       "'/home/egidio/Dropbox/SAMU/Calidad registros eSAMU'"
      ]
     },
     "execution_count": 3,
     "metadata": {},
     "output_type": "execute_result"
    }
   ],
   "source": [
    "os.getcwd()"
   ]
  },
  {
   "cell_type": "code",
   "execution_count": 4,
   "metadata": {
    "collapsed": true
   },
   "outputs": [],
   "source": [
    "calidad = pd.read_excel('./Control calidad registros  Eversion1.xlsx')\n"
   ]
  },
  {
   "cell_type": "code",
   "execution_count": 5,
   "metadata": {},
   "outputs": [
    {
     "data": {
      "text/html": [
       "<div>\n",
       "<style scoped>\n",
       "    .dataframe tbody tr th:only-of-type {\n",
       "        vertical-align: middle;\n",
       "    }\n",
       "\n",
       "    .dataframe tbody tr th {\n",
       "        vertical-align: top;\n",
       "    }\n",
       "\n",
       "    .dataframe thead th {\n",
       "        text-align: right;\n",
       "    }\n",
       "</style>\n",
       "<table border=\"1\" class=\"dataframe\">\n",
       "  <thead>\n",
       "    <tr style=\"text-align: right;\">\n",
       "      <th></th>\n",
       "      <th>FECHA</th>\n",
       "      <th>N° REM</th>\n",
       "      <th>Producto atención</th>\n",
       "      <th>MLl. y SMLl atingentes</th>\n",
       "      <th>Teléfono registrado de llamante</th>\n",
       "      <th>ROp</th>\n",
       "      <th>REM priorizado</th>\n",
       "      <th>Regulación registrada</th>\n",
       "      <th>En caso de cerrar REM queda claro motivos</th>\n",
       "      <th>Campos de traslado: 4 enviantes, 4 receptores</th>\n",
       "      <th>Regulador</th>\n",
       "      <th>Paciente identificado</th>\n",
       "      <th>Intervención Básica/Avanzada marcado</th>\n",
       "      <th>Historia Clínica registrada</th>\n",
       "      <th>Diagnóstico registrados</th>\n",
       "      <th>Prestación 1ria/2ria registrada</th>\n",
       "      <th>CSV registrado</th>\n",
       "      <th>Km inicial y final registrados</th>\n",
       "      <th>Base intervención</th>\n",
       "      <th>Interventor</th>\n",
       "    </tr>\n",
       "  </thead>\n",
       "  <tbody>\n",
       "    <tr>\n",
       "      <th>0</th>\n",
       "      <td>26/08/2019</td>\n",
       "      <td>97829</td>\n",
       "      <td>Otro</td>\n",
       "      <td>Sí</td>\n",
       "      <td>Sí</td>\n",
       "      <td>Hector Tapia</td>\n",
       "      <td>Sí</td>\n",
       "      <td>Sí</td>\n",
       "      <td>NaN</td>\n",
       "      <td>NaN</td>\n",
       "      <td>Ulises Yañes, Orieta Bravo</td>\n",
       "      <td>Sí</td>\n",
       "      <td>Sí</td>\n",
       "      <td>Sí</td>\n",
       "      <td>Sí</td>\n",
       "      <td>No</td>\n",
       "      <td>Sí</td>\n",
       "      <td>Sí</td>\n",
       "      <td>La Ligua</td>\n",
       "      <td>Enfermero Arturo Sire</td>\n",
       "    </tr>\n",
       "    <tr>\n",
       "      <th>1</th>\n",
       "      <td>26/08/2019</td>\n",
       "      <td>97842</td>\n",
       "      <td>Trasladado</td>\n",
       "      <td>No</td>\n",
       "      <td>Sí</td>\n",
       "      <td>Luz Tapia</td>\n",
       "      <td>Sí</td>\n",
       "      <td>Sí</td>\n",
       "      <td>NaN</td>\n",
       "      <td>NaN</td>\n",
       "      <td>David Serrano</td>\n",
       "      <td>Sí</td>\n",
       "      <td>Sí</td>\n",
       "      <td>Sí</td>\n",
       "      <td>Sí</td>\n",
       "      <td>Sí</td>\n",
       "      <td>Sí</td>\n",
       "      <td>Sí</td>\n",
       "      <td>La Ligua</td>\n",
       "      <td>TP Cristopher Martinez</td>\n",
       "    </tr>\n",
       "    <tr>\n",
       "      <th>2</th>\n",
       "      <td>26/08/2019</td>\n",
       "      <td>97880</td>\n",
       "      <td>At en domicilio</td>\n",
       "      <td>Sí</td>\n",
       "      <td>Sí</td>\n",
       "      <td>Luz Tapia</td>\n",
       "      <td>Sí</td>\n",
       "      <td>No</td>\n",
       "      <td>NaN</td>\n",
       "      <td>NaN</td>\n",
       "      <td>Ulises Yañes</td>\n",
       "      <td>Sí</td>\n",
       "      <td>Sí</td>\n",
       "      <td>Sí</td>\n",
       "      <td>Sí</td>\n",
       "      <td>Sí</td>\n",
       "      <td>Sí</td>\n",
       "      <td>Sí</td>\n",
       "      <td>La Ligua</td>\n",
       "      <td>Enfermero Arturo Sire</td>\n",
       "    </tr>\n",
       "  </tbody>\n",
       "</table>\n",
       "</div>"
      ],
      "text/plain": [
       "        FECHA  N° REM Producto atención MLl. y SMLl atingentes  \\\n",
       "0  26/08/2019   97829              Otro                     Sí   \n",
       "1  26/08/2019   97842        Trasladado                     No   \n",
       "2  26/08/2019   97880   At en domicilio                     Sí   \n",
       "\n",
       "  Teléfono registrado de llamante           ROp REM priorizado  \\\n",
       "0                              Sí  Hector Tapia             Sí   \n",
       "1                              Sí     Luz Tapia             Sí   \n",
       "2                              Sí     Luz Tapia             Sí   \n",
       "\n",
       "  Regulación registrada En caso de cerrar REM queda claro motivos  \\\n",
       "0                    Sí                                       NaN   \n",
       "1                    Sí                                       NaN   \n",
       "2                    No                                       NaN   \n",
       "\n",
       "  Campos de traslado: 4 enviantes, 4 receptores                   Regulador  \\\n",
       "0                                           NaN  Ulises Yañes, Orieta Bravo   \n",
       "1                                           NaN               David Serrano   \n",
       "2                                           NaN                Ulises Yañes   \n",
       "\n",
       "  Paciente identificado Intervención Básica/Avanzada marcado  \\\n",
       "0                    Sí                                   Sí   \n",
       "1                    Sí                                   Sí   \n",
       "2                    Sí                                   Sí   \n",
       "\n",
       "  Historia Clínica registrada Diagnóstico registrados  \\\n",
       "0                          Sí                      Sí   \n",
       "1                          Sí                      Sí   \n",
       "2                          Sí                      Sí   \n",
       "\n",
       "  Prestación 1ria/2ria registrada CSV registrado  \\\n",
       "0                              No             Sí   \n",
       "1                              Sí             Sí   \n",
       "2                              Sí             Sí   \n",
       "\n",
       "  Km inicial y final registrados Base intervención             Interventor  \n",
       "0                             Sí          La Ligua   Enfermero Arturo Sire  \n",
       "1                             Sí          La Ligua  TP Cristopher Martinez  \n",
       "2                             Sí          La Ligua   Enfermero Arturo Sire  "
      ]
     },
     "execution_count": 5,
     "metadata": {},
     "output_type": "execute_result"
    }
   ],
   "source": [
    "calidad.head(3)"
   ]
  },
  {
   "cell_type": "code",
   "execution_count": 6,
   "metadata": {},
   "outputs": [
    {
     "data": {
      "text/plain": [
       "Index(['FECHA', 'N° REM', 'Producto atención', 'MLl. y SMLl atingentes',\n",
       "       'Teléfono registrado de llamante', 'ROp', 'REM priorizado',\n",
       "       'Regulación registrada', 'En caso de cerrar REM queda claro motivos',\n",
       "       'Campos de traslado: 4 enviantes, 4 receptores', 'Regulador',\n",
       "       'Paciente identificado', 'Intervención Básica/Avanzada marcado',\n",
       "       'Historia Clínica registrada', 'Diagnóstico registrados',\n",
       "       'Prestación 1ria/2ria registrada', 'CSV registrado',\n",
       "       'Km inicial y final registrados', 'Base intervención', 'Interventor'],\n",
       "      dtype='object')"
      ]
     },
     "execution_count": 6,
     "metadata": {},
     "output_type": "execute_result"
    }
   ],
   "source": [
    "calidad.columns"
   ]
  },
  {
   "cell_type": "markdown",
   "metadata": {},
   "source": [
    "## Regulación ROp"
   ]
  },
  {
   "cell_type": "markdown",
   "metadata": {},
   "source": [
    "Atingencia motivo y submotivo llamada"
   ]
  },
  {
   "cell_type": "code",
   "execution_count": 7,
   "metadata": {},
   "outputs": [
    {
     "data": {
      "text/plain": [
       "Sí    59\n",
       "No     8\n",
       "Name: MLl. y SMLl atingentes, dtype: int64"
      ]
     },
     "execution_count": 7,
     "metadata": {},
     "output_type": "execute_result"
    }
   ],
   "source": [
    "calidad['MLl. y SMLl atingentes'].value_counts()"
   ]
  },
  {
   "cell_type": "code",
   "execution_count": 149,
   "metadata": {},
   "outputs": [
    {
     "data": {
      "text/plain": [
       "<_io.TextIOWrapper name='testfile.txt' mode='w' encoding='UTF-8'>"
      ]
     },
     "execution_count": 149,
     "metadata": {},
     "output_type": "execute_result"
    }
   ],
   "source": [
    "file = open('Resultados.txt','w') \n"
   ]
  },
  {
   "cell_type": "code",
   "execution_count": 8,
   "metadata": {},
   "outputs": [
    {
     "data": {
      "text/plain": [
       "Maria Duran             3\n",
       "Romyna Ramirez          2\n",
       "Luz Tapia               1\n",
       "Bastian Aliaga          1\n",
       "Rosa del Carmen Meza    1\n",
       "Name: ROp, dtype: int64"
      ]
     },
     "execution_count": 8,
     "metadata": {},
     "output_type": "execute_result"
    }
   ],
   "source": [
    "calidad[calidad['MLl. y SMLl atingentes'] == 'No'].ROp.value_counts()"
   ]
  },
  {
   "cell_type": "markdown",
   "metadata": {},
   "source": [
    "Registro telefónico"
   ]
  },
  {
   "cell_type": "code",
   "execution_count": 9,
   "metadata": {
    "scrolled": true
   },
   "outputs": [
    {
     "data": {
      "text/plain": [
       "Sí    67\n",
       "Name: Teléfono registrado de llamante, dtype: int64"
      ]
     },
     "execution_count": 9,
     "metadata": {},
     "output_type": "execute_result"
    }
   ],
   "source": [
    "calidad['Teléfono registrado de llamante'].value_counts()"
   ]
  },
  {
   "cell_type": "code",
   "execution_count": 146,
   "metadata": {
    "scrolled": false
   },
   "outputs": [
    {
     "data": {
      "text/html": [
       "<div>\n",
       "<style scoped>\n",
       "    .dataframe tbody tr th:only-of-type {\n",
       "        vertical-align: middle;\n",
       "    }\n",
       "\n",
       "    .dataframe tbody tr th {\n",
       "        vertical-align: top;\n",
       "    }\n",
       "\n",
       "    .dataframe thead th {\n",
       "        text-align: right;\n",
       "    }\n",
       "</style>\n",
       "<table border=\"1\" class=\"dataframe\">\n",
       "  <thead>\n",
       "    <tr style=\"text-align: right;\">\n",
       "      <th></th>\n",
       "      <th>n</th>\n",
       "      <th>%</th>\n",
       "      <th>REMs</th>\n",
       "    </tr>\n",
       "    <tr>\n",
       "      <th>ROp</th>\n",
       "      <th></th>\n",
       "      <th></th>\n",
       "      <th></th>\n",
       "    </tr>\n",
       "  </thead>\n",
       "  <tbody>\n",
       "    <tr>\n",
       "      <th>Rosa del Carmen Meza</th>\n",
       "      <td>1</td>\n",
       "      <td>20.0</td>\n",
       "      <td>[100240]</td>\n",
       "    </tr>\n",
       "    <tr>\n",
       "      <th>Luz Tapia</th>\n",
       "      <td>1</td>\n",
       "      <td>33.0</td>\n",
       "      <td>[97842]</td>\n",
       "    </tr>\n",
       "    <tr>\n",
       "      <th>Romyna Ramirez</th>\n",
       "      <td>2</td>\n",
       "      <td>40.0</td>\n",
       "      <td>[98116, 100265]</td>\n",
       "    </tr>\n",
       "    <tr>\n",
       "      <th>Bastian Aliaga</th>\n",
       "      <td>1</td>\n",
       "      <td>50.0</td>\n",
       "      <td>[98318]</td>\n",
       "    </tr>\n",
       "    <tr>\n",
       "      <th>Maria Duran</th>\n",
       "      <td>3</td>\n",
       "      <td>100.0</td>\n",
       "      <td>[97821, 98047, 98001]</td>\n",
       "    </tr>\n",
       "  </tbody>\n",
       "</table>\n",
       "</div>"
      ],
      "text/plain": [
       "                      n      %                   REMs\n",
       "ROp                                                  \n",
       "Rosa del Carmen Meza  1   20.0               [100240]\n",
       "Luz Tapia             1   33.0                [97842]\n",
       "Romyna Ramirez        2   40.0        [98116, 100265]\n",
       "Bastian Aliaga        1   50.0                [98318]\n",
       "Maria Duran           3  100.0  [97821, 98047, 98001]"
      ]
     },
     "execution_count": 146,
     "metadata": {},
     "output_type": "execute_result"
    },
    {
     "data": {
      "text/html": [
       "<div>\n",
       "<style scoped>\n",
       "    .dataframe tbody tr th:only-of-type {\n",
       "        vertical-align: middle;\n",
       "    }\n",
       "\n",
       "    .dataframe tbody tr th {\n",
       "        vertical-align: top;\n",
       "    }\n",
       "\n",
       "    .dataframe thead th {\n",
       "        text-align: right;\n",
       "    }\n",
       "</style>\n",
       "<table border=\"1\" class=\"dataframe\">\n",
       "  <thead>\n",
       "    <tr style=\"text-align: right;\">\n",
       "      <th></th>\n",
       "      <th>n</th>\n",
       "      <th>%</th>\n",
       "    </tr>\n",
       "    <tr>\n",
       "      <th>ROp</th>\n",
       "      <th></th>\n",
       "      <th></th>\n",
       "    </tr>\n",
       "  </thead>\n",
       "  <tbody>\n",
       "    <tr>\n",
       "      <th>Bastian Aliaga</th>\n",
       "      <td>1</td>\n",
       "      <td>50.0</td>\n",
       "    </tr>\n",
       "    <tr>\n",
       "      <th>Romyna Ramirez</th>\n",
       "      <td>3</td>\n",
       "      <td>60.0</td>\n",
       "    </tr>\n",
       "    <tr>\n",
       "      <th>Luz Tapia</th>\n",
       "      <td>2</td>\n",
       "      <td>67.0</td>\n",
       "    </tr>\n",
       "    <tr>\n",
       "      <th>Rosa del Carmen Meza</th>\n",
       "      <td>4</td>\n",
       "      <td>80.0</td>\n",
       "    </tr>\n",
       "    <tr>\n",
       "      <th>Daniela Nuñez</th>\n",
       "      <td>1</td>\n",
       "      <td>100.0</td>\n",
       "    </tr>\n",
       "  </tbody>\n",
       "</table>\n",
       "</div>"
      ],
      "text/plain": [
       "                      n      %\n",
       "ROp                           \n",
       "Bastian Aliaga        1   50.0\n",
       "Romyna Ramirez        3   60.0\n",
       "Luz Tapia             2   67.0\n",
       "Rosa del Carmen Meza  4   80.0\n",
       "Daniela Nuñez         1  100.0"
      ]
     },
     "execution_count": 146,
     "metadata": {},
     "output_type": "execute_result"
    }
   ],
   "source": [
    "# calidad[calidad['MLl. y SMLl atingentes'] == 'No'].ROp.value_counts()\n",
    "# calidad[calidad['MLl. y SMLl atingentes'] == 'Si'].ROp.value_counts()\n",
    "grupo = calidad.groupby(['MLl. y SMLl atingentes', 'ROp'])['N° REM'].count()\n",
    "\n",
    "REMs = calidad.groupby(['MLl. y SMLl atingentes', 'ROp'])['N° REM'].apply(list)['No']\n",
    "\n",
    "percbyrank = grupo.groupby(level=1).apply(lambda x: round(100 * x / float(x.sum())))\n",
    "Mal_reg = {}\n",
    "Mal_reg['n'] = grupo['No']\n",
    "Mal_reg['%'] = percbyrank['No']\n",
    "Mal_reg['REMs'] = REMs\n",
    "\n",
    "Buen_reg = {}\n",
    "Buen_reg['n'] = grupo['Sí']\n",
    "Buen_reg['%'] = percbyrank['Sí']\n",
    "\n",
    "ROP_MLL_peor = pd.DataFrame.from_dict(Mal_reg).sort_values(['%', 'n'])\n",
    "ROP_MLL_mejor = pd.DataFrame.from_dict(Buen_reg).sort_values(['%', 'n'])\n",
    "\n",
    "ROP_MLL_peor\n",
    "ROP_MLL_mejor.head()"
   ]
  },
  {
   "cell_type": "markdown",
   "metadata": {},
   "source": [
    "Lo escribo en un texto que luego puede ser leído en latex"
   ]
  },
  {
   "cell_type": "code",
   "execution_count": null,
   "metadata": {
    "collapsed": true
   },
   "outputs": [],
   "source": []
  },
  {
   "cell_type": "markdown",
   "metadata": {},
   "source": [
    "## Regulación regulador"
   ]
  },
  {
   "cell_type": "markdown",
   "metadata": {},
   "source": [
    "### Si se priorizaron los REM para salida de ambulancia\n",
    "\n",
    "Quiénes no lo hicieron?\n",
    "\n",
    "Cuales fueron esos REM?"
   ]
  },
  {
   "cell_type": "code",
   "execution_count": 10,
   "metadata": {
    "scrolled": true
   },
   "outputs": [
    {
     "data": {
      "text/plain": [
       "Sí         50\n",
       "No         12\n",
       "<vacio>     1\n",
       "Name: REM priorizado, dtype: int64"
      ]
     },
     "execution_count": 10,
     "metadata": {},
     "output_type": "execute_result"
    },
    {
     "data": {
      "text/plain": [
       "David Serrano                 2\n",
       "Vincenzo Bavestrello          1\n",
       "Ulises Yañez                  1\n",
       "Juan Bulnes. Berta Garrido    1\n",
       "Name: Regulador, dtype: int64"
      ]
     },
     "execution_count": 10,
     "metadata": {},
     "output_type": "execute_result"
    },
    {
     "data": {
      "text/plain": [
       "array([ 97821,  97875,  97916,  97995,  98195,  98093,  98287,  98301,\n",
       "       100277, 100263, 100231, 100209])"
      ]
     },
     "execution_count": 10,
     "metadata": {},
     "output_type": "execute_result"
    }
   ],
   "source": [
    "var = 'REM priorizado'\n",
    "calidad[var].value_counts()\n",
    "calidad[calidad[var] == 'No'].Regulador.value_counts()\n",
    "calidad[calidad[var] == 'No']['N° REM'].values"
   ]
  },
  {
   "cell_type": "markdown",
   "metadata": {},
   "source": [
    "### Se registró regulación?\n",
    "\n",
    "Quiénes no lo hicieron?\n",
    "\n",
    "Cuales fueron esos REM?\n"
   ]
  },
  {
   "cell_type": "code",
   "execution_count": 11,
   "metadata": {},
   "outputs": [
    {
     "data": {
      "text/plain": [
       "Sí         44\n",
       "No         17\n",
       "<vacio>     2\n",
       "Name: Regulación registrada, dtype: int64"
      ]
     },
     "execution_count": 11,
     "metadata": {},
     "output_type": "execute_result"
    },
    {
     "data": {
      "text/plain": [
       "David Serrano         2\n",
       "Ulises Yañes          1\n",
       "Ulises Yañez          1\n",
       "Estefania Martinez    1\n",
       "Name: Regulador, dtype: int64"
      ]
     },
     "execution_count": 11,
     "metadata": {},
     "output_type": "execute_result"
    },
    {
     "data": {
      "text/plain": [
       "array([ 97880,  97913,  97917,  97836,  97821,  97875,  97916,  98009,\n",
       "        98076,  97995,  98099,  98090,  98093,  98301, 100277, 100167,\n",
       "       100297])"
      ]
     },
     "execution_count": 11,
     "metadata": {},
     "output_type": "execute_result"
    }
   ],
   "source": [
    "var = 'Regulación registrada'\n",
    "calidad[var].value_counts()\n",
    "calidad[calidad[var] == 'No'].Regulador.value_counts()\n",
    "calidad[calidad[var] == 'No']['N° REM'].values"
   ]
  },
  {
   "cell_type": "markdown",
   "metadata": {},
   "source": [
    "### En caso de cerrar REM queda claro motivos?\n",
    "\n",
    "Quiénes no lo hicieron?\n",
    "\n",
    "Cuales fueron esos REM?"
   ]
  },
  {
   "cell_type": "code",
   "execution_count": 12,
   "metadata": {},
   "outputs": [
    {
     "data": {
      "text/plain": [
       "Sí    23\n",
       "No     4\n",
       "Name: En caso de cerrar REM queda claro motivos, dtype: int64"
      ]
     },
     "execution_count": 12,
     "metadata": {},
     "output_type": "execute_result"
    },
    {
     "data": {
      "text/plain": [
       "David Serrano    2\n",
       "Ulises Yañez     1\n",
       "Name: Regulador, dtype: int64"
      ]
     },
     "execution_count": 12,
     "metadata": {},
     "output_type": "execute_result"
    },
    {
     "data": {
      "text/plain": [
       "array([ 97875,  98093, 100277, 100276])"
      ]
     },
     "execution_count": 12,
     "metadata": {},
     "output_type": "execute_result"
    }
   ],
   "source": [
    "var = 'En caso de cerrar REM queda claro motivos'\n",
    "calidad[var].value_counts()\n",
    "calidad[calidad[var] == 'No'].Regulador.value_counts()\n",
    "calidad[calidad[var] == 'No']['N° REM'].values"
   ]
  },
  {
   "cell_type": "markdown",
   "metadata": {},
   "source": [
    "### Campos de traslado: 4 enviantes, 4 receptores\n",
    "\n",
    "Quiénes no lo hicieron?\n",
    "\n",
    "Cuales fueron esos REM?"
   ]
  },
  {
   "cell_type": "code",
   "execution_count": 13,
   "metadata": {},
   "outputs": [
    {
     "data": {
      "text/plain": [
       "Sí    6\n",
       "No    6\n",
       "Name: Campos de traslado: 4 enviantes, 4 receptores, dtype: int64"
      ]
     },
     "execution_count": 13,
     "metadata": {},
     "output_type": "execute_result"
    },
    {
     "data": {
      "text/plain": [
       "Ulises Yañez     3\n",
       "Berta Garrido    1\n",
       "Juan Veliz       1\n",
       "Name: Regulador, dtype: int64"
      ]
     },
     "execution_count": 13,
     "metadata": {},
     "output_type": "execute_result"
    },
    {
     "data": {
      "text/plain": [
       "array([97835, 97836, 97881, 98042, 98080, 98254])"
      ]
     },
     "execution_count": 13,
     "metadata": {},
     "output_type": "execute_result"
    }
   ],
   "source": [
    "var = 'Campos de traslado: 4 enviantes, 4 receptores'\n",
    "calidad[var].value_counts()\n",
    "calidad[calidad[var] == 'No'].Regulador.value_counts()\n",
    "calidad[calidad[var] == 'No']['N° REM'].values"
   ]
  },
  {
   "cell_type": "markdown",
   "metadata": {},
   "source": [
    "## Intervención"
   ]
  },
  {
   "cell_type": "markdown",
   "metadata": {},
   "source": [
    "### Paciente identificado\n",
    "\n",
    "Quiénes no lo hicieron?\n",
    "\n",
    "Cuales fueron esos REM?"
   ]
  },
  {
   "cell_type": "code",
   "execution_count": 14,
   "metadata": {},
   "outputs": [
    {
     "data": {
      "text/plain": [
       "Sí    50\n",
       "No     7\n",
       "Name: Paciente identificado, dtype: int64"
      ]
     },
     "execution_count": 14,
     "metadata": {},
     "output_type": "execute_result"
    },
    {
     "data": {
      "text/plain": [
       "Viña del Mar    5\n",
       "Quillota        1\n",
       "Quintero        1\n",
       "Name: Base intervención, dtype: int64"
      ]
     },
     "execution_count": 14,
     "metadata": {},
     "output_type": "execute_result"
    },
    {
     "name": "stdout",
     "output_type": "stream",
     "text": [
      "----------------------------\n",
      "Viña del Mar :\n"
     ]
    },
    {
     "data": {
      "text/plain": [
       "array([ 97801,  97837,  97891,  98087, 100209])"
      ]
     },
     "execution_count": 14,
     "metadata": {},
     "output_type": "execute_result"
    },
    {
     "data": {
      "text/plain": [
       "TP Diego Fernandez                                     1\n",
       "TP Sebastian Ahumada                                   1\n",
       "Enfermero Victor Martínez/ Médico Sebastián Wiedman    1\n",
       "TP Freddy San Martin                                   1\n",
       "TP Daniel Flores                                       1\n",
       "Name: Interventor, dtype: int64"
      ]
     },
     "execution_count": 14,
     "metadata": {},
     "output_type": "execute_result"
    },
    {
     "name": "stdout",
     "output_type": "stream",
     "text": [
      "----------------------------\n",
      "Quintero :\n"
     ]
    },
    {
     "data": {
      "text/plain": [
       "array([98078])"
      ]
     },
     "execution_count": 14,
     "metadata": {},
     "output_type": "execute_result"
    },
    {
     "data": {
      "text/plain": [
       "Enfermera Daniela Torres    1\n",
       "Name: Interventor, dtype: int64"
      ]
     },
     "execution_count": 14,
     "metadata": {},
     "output_type": "execute_result"
    },
    {
     "name": "stdout",
     "output_type": "stream",
     "text": [
      "----------------------------\n",
      "Quillota :\n"
     ]
    },
    {
     "data": {
      "text/plain": [
       "array([98301])"
      ]
     },
     "execution_count": 14,
     "metadata": {},
     "output_type": "execute_result"
    },
    {
     "data": {
      "text/plain": [
       "Enfermero Jose Hidalgo    1\n",
       "Name: Interventor, dtype: int64"
      ]
     },
     "execution_count": 14,
     "metadata": {},
     "output_type": "execute_result"
    }
   ],
   "source": [
    "var = 'Paciente identificado'\n",
    "SMUR = calidad[calidad[var] == 'No']['Base intervención'].dropna().unique()\n",
    "\n",
    "calidad[var].value_counts()\n",
    "calidad[calidad[var] == 'No']['Base intervención'].value_counts()\n",
    "for base in SMUR:\n",
    "    print('----------------------------')\n",
    "    print(base, ':')\n",
    "    calidad[calidad[var] == 'No'].groupby('Base intervención')['N° REM'].get_group(base).values\n",
    "    calidad[calidad[var] == 'No'].groupby('Base intervención')['Interventor'].get_group(base).value_counts()"
   ]
  },
  {
   "cell_type": "markdown",
   "metadata": {},
   "source": [
    "### Intervención Básica/Avanzada marcado\n",
    "Quiénes no lo hicieron?\n",
    "\n",
    "Cuales fueron esos REM?"
   ]
  },
  {
   "cell_type": "code",
   "execution_count": 15,
   "metadata": {
    "scrolled": true
   },
   "outputs": [
    {
     "data": {
      "text/plain": [
       "Sí         45\n",
       "No          6\n",
       "<vacio>     2\n",
       "Name: Intervención Básica/Avanzada marcado, dtype: int64"
      ]
     },
     "execution_count": 15,
     "metadata": {},
     "output_type": "execute_result"
    },
    {
     "data": {
      "text/plain": [
       "Viña del Mar    4\n",
       "Quintero        2\n",
       "Name: Base intervención, dtype: int64"
      ]
     },
     "execution_count": 15,
     "metadata": {},
     "output_type": "execute_result"
    },
    {
     "name": "stdout",
     "output_type": "stream",
     "text": [
      "----------------------------\n",
      "Quintero :\n"
     ]
    },
    {
     "data": {
      "text/plain": [
       "array([97836, 97881])"
      ]
     },
     "execution_count": 15,
     "metadata": {},
     "output_type": "execute_result"
    },
    {
     "data": {
      "text/plain": [
       "Enfermera Francisca Lira    1\n",
       "TP Javier Altamirano        1\n",
       "Name: Interventor, dtype: int64"
      ]
     },
     "execution_count": 15,
     "metadata": {},
     "output_type": "execute_result"
    },
    {
     "name": "stdout",
     "output_type": "stream",
     "text": [
      "----------------------------\n",
      "Viña del Mar :\n"
     ]
    },
    {
     "data": {
      "text/plain": [
       "array([97801, 97837, 97891, 98087])"
      ]
     },
     "execution_count": 15,
     "metadata": {},
     "output_type": "execute_result"
    },
    {
     "data": {
      "text/plain": [
       "TP Diego Fernandez      1\n",
       "TP Sebastian Ahumada    1\n",
       "TP Freddy San Martin    1\n",
       "TP Daniel Flores        1\n",
       "Name: Interventor, dtype: int64"
      ]
     },
     "execution_count": 15,
     "metadata": {},
     "output_type": "execute_result"
    }
   ],
   "source": [
    "var = 'Intervención Básica/Avanzada marcado'\n",
    "SMUR = calidad[calidad[var] == 'No']['Base intervención'].dropna().unique()\n",
    "\n",
    "calidad[var].value_counts()\n",
    "calidad[calidad[var] == 'No']['Base intervención'].value_counts()\n",
    "for base in SMUR:\n",
    "    print('----------------------------')\n",
    "    print(base, ':')\n",
    "    calidad[calidad[var] == 'No'].groupby('Base intervención')['N° REM'].get_group(base).values\n",
    "    calidad[calidad[var] == 'No'].groupby('Base intervención')['Interventor'].get_group(base).value_counts()"
   ]
  },
  {
   "cell_type": "markdown",
   "metadata": {},
   "source": [
    "### Historia Clínica registrada\n",
    "\n",
    "Quiénes no lo hicieron?\n",
    "\n",
    "Cuales fueron esos REM?"
   ]
  },
  {
   "cell_type": "code",
   "execution_count": 16,
   "metadata": {
    "scrolled": true
   },
   "outputs": [
    {
     "data": {
      "text/plain": [
       "Sí         41\n",
       "No         11\n",
       "<vacio>     1\n",
       "Name: Historia Clínica registrada, dtype: int64"
      ]
     },
     "execution_count": 16,
     "metadata": {},
     "output_type": "execute_result"
    },
    {
     "data": {
      "text/plain": [
       "Viña del Mar    8\n",
       "Quintero        3\n",
       "Name: Base intervención, dtype: int64"
      ]
     },
     "execution_count": 16,
     "metadata": {},
     "output_type": "execute_result"
    },
    {
     "name": "stdout",
     "output_type": "stream",
     "text": [
      "----------------------------\n",
      "Quintero :\n"
     ]
    },
    {
     "data": {
      "text/plain": [
       "array([97836, 97881, 98009])"
      ]
     },
     "execution_count": 16,
     "metadata": {},
     "output_type": "execute_result"
    },
    {
     "data": {
      "text/plain": [
       "TP Ruth Torres              1\n",
       "Enfermera Francisca Lira    1\n",
       "TP Javier Altamirano        1\n",
       "Name: Interventor, dtype: int64"
      ]
     },
     "execution_count": 16,
     "metadata": {},
     "output_type": "execute_result"
    },
    {
     "name": "stdout",
     "output_type": "stream",
     "text": [
      "----------------------------\n",
      "Viña del Mar :\n"
     ]
    },
    {
     "data": {
      "text/plain": [
       "array([ 97801,  97837,  97891,  98047,  98087,  98150, 100248, 100209])"
      ]
     },
     "execution_count": 16,
     "metadata": {},
     "output_type": "execute_result"
    },
    {
     "data": {
      "text/plain": [
       "TP Daniel Flores                                       2\n",
       "TP Sebastian Ahumada                                   1\n",
       "Enfermero Victor Martínez/ Médico Sebastián Wiedman    1\n",
       "TP Marco Azocar                                        1\n",
       "TP Diego Fernandez                                     1\n",
       "TP Francisco Diaz                                      1\n",
       "TP Freddy San Martin                                   1\n",
       "Name: Interventor, dtype: int64"
      ]
     },
     "execution_count": 16,
     "metadata": {},
     "output_type": "execute_result"
    }
   ],
   "source": [
    "var = 'Historia Clínica registrada'\n",
    "SMUR = calidad[calidad[var] == 'No']['Base intervención'].dropna().unique()\n",
    "\n",
    "calidad[var].value_counts()\n",
    "calidad[calidad[var] == 'No']['Base intervención'].value_counts()\n",
    "for base in SMUR:\n",
    "    print('----------------------------')\n",
    "    print(base, ':')\n",
    "    calidad[calidad[var] == 'No'].groupby('Base intervención')['N° REM'].get_group(base).values\n",
    "    calidad[calidad[var] == 'No'].groupby('Base intervención')['Interventor'].get_group(base).value_counts()"
   ]
  },
  {
   "cell_type": "markdown",
   "metadata": {},
   "source": [
    "### Diagnóstico registrados\n",
    "Quiénes no lo hicieron?\n",
    "\n",
    "Cuales fueron esos REM?"
   ]
  },
  {
   "cell_type": "code",
   "execution_count": 17,
   "metadata": {
    "scrolled": false
   },
   "outputs": [
    {
     "data": {
      "text/plain": [
       "Sí         26\n",
       "No         25\n",
       "<vacio>     2\n",
       "Name: Diagnóstico registrados, dtype: int64"
      ]
     },
     "execution_count": 17,
     "metadata": {},
     "output_type": "execute_result"
    },
    {
     "data": {
      "text/plain": [
       "Quillota        12\n",
       "Viña del Mar     7\n",
       "Quintero         6\n",
       "Name: Base intervención, dtype: int64"
      ]
     },
     "execution_count": 17,
     "metadata": {},
     "output_type": "execute_result"
    },
    {
     "name": "stdout",
     "output_type": "stream",
     "text": [
      "----------------------------\n",
      "Quillota :\n"
     ]
    },
    {
     "data": {
      "text/plain": [
       "array([ 97802,  97913,  97999,  98023,  98042,  98080,  98090,  98116,\n",
       "        98254,  98318, 100308, 100240])"
      ]
     },
     "execution_count": 17,
     "metadata": {},
     "output_type": "execute_result"
    },
    {
     "data": {
      "text/plain": [
       "Enfermero Miguel Prieto        2\n",
       "Enfermero Mauricio Escobar     2\n",
       "Enfermero Eri Moreno           2\n",
       "Enfermero Rodrigo Ortiz        1\n",
       "Enfermera Cherie Caballero     1\n",
       "Enfermero Guido Borquez        1\n",
       "Enfermero Eleazar Navarrete    1\n",
       "TP Verónica Laffi Marambio     1\n",
       "Enfermero Daniel Callejas      1\n",
       "Name: Interventor, dtype: int64"
      ]
     },
     "execution_count": 17,
     "metadata": {},
     "output_type": "execute_result"
    },
    {
     "name": "stdout",
     "output_type": "stream",
     "text": [
      "----------------------------\n",
      "Quintero :\n"
     ]
    },
    {
     "data": {
      "text/plain": [
       "array([ 97836,  97881,  97948,  98009, 100212, 100167])"
      ]
     },
     "execution_count": 17,
     "metadata": {},
     "output_type": "execute_result"
    },
    {
     "data": {
      "text/plain": [
       "TP Ruth Torres              2\n",
       "Enfermero Danko Andrade     2\n",
       "TP Javier Altamirano        1\n",
       "Enfermera Francisca Lira    1\n",
       "Name: Interventor, dtype: int64"
      ]
     },
     "execution_count": 17,
     "metadata": {},
     "output_type": "execute_result"
    },
    {
     "name": "stdout",
     "output_type": "stream",
     "text": [
      "----------------------------\n",
      "Viña del Mar :\n"
     ]
    },
    {
     "data": {
      "text/plain": [
       "array([ 97801,  97837,  97891,  98031,  98087, 100248, 100209])"
      ]
     },
     "execution_count": 17,
     "metadata": {},
     "output_type": "execute_result"
    },
    {
     "data": {
      "text/plain": [
       "TP Daniel Flores                                       2\n",
       "TP Diego Fernandez                                     1\n",
       "TP Sebastian Ahumada                                   1\n",
       "Enfermero Victor Martínez/ Médico Sebastián Wiedman    1\n",
       "TP Freddy San Martin                                   1\n",
       "Enfermera Nicole Barrera                               1\n",
       "Name: Interventor, dtype: int64"
      ]
     },
     "execution_count": 17,
     "metadata": {},
     "output_type": "execute_result"
    }
   ],
   "source": [
    "var = 'Diagnóstico registrados'\n",
    "SMUR = calidad[calidad[var] == 'No']['Base intervención'].dropna().unique()\n",
    "\n",
    "calidad[var].value_counts()\n",
    "calidad[calidad[var] == 'No']['Base intervención'].value_counts()\n",
    "for base in SMUR:\n",
    "    print('----------------------------')\n",
    "    print(base, ':')\n",
    "    calidad[calidad[var] == 'No'].groupby('Base intervención')['N° REM'].get_group(base).values\n",
    "    calidad[calidad[var] == 'No'].groupby('Base intervención')['Interventor'].get_group(base).value_counts()"
   ]
  },
  {
   "cell_type": "markdown",
   "metadata": {},
   "source": [
    "### Prestación 1ria/2ria registrada\n",
    "\n",
    "Quiénes no lo hicieron?\n",
    "\n",
    "Cuales fueron esos REM?"
   ]
  },
  {
   "cell_type": "code",
   "execution_count": 18,
   "metadata": {
    "scrolled": true
   },
   "outputs": [
    {
     "data": {
      "text/plain": [
       "Sí         36\n",
       "No         14\n",
       "<vacio>     2\n",
       "Name: Prestación 1ria/2ria registrada, dtype: int64"
      ]
     },
     "execution_count": 18,
     "metadata": {},
     "output_type": "execute_result"
    },
    {
     "data": {
      "text/plain": [
       "Viña del Mar    9\n",
       "Quintero        2\n",
       "Quillota        2\n",
       "La Ligua        1\n",
       "Name: Base intervención, dtype: int64"
      ]
     },
     "execution_count": 18,
     "metadata": {},
     "output_type": "execute_result"
    },
    {
     "name": "stdout",
     "output_type": "stream",
     "text": [
      "----------------------------\n",
      "La Ligua :\n"
     ]
    },
    {
     "data": {
      "text/plain": [
       "array([97829])"
      ]
     },
     "execution_count": 18,
     "metadata": {},
     "output_type": "execute_result"
    },
    {
     "data": {
      "text/plain": [
       "Enfermero Arturo Sire    1\n",
       "Name: Interventor, dtype: int64"
      ]
     },
     "execution_count": 18,
     "metadata": {},
     "output_type": "execute_result"
    },
    {
     "name": "stdout",
     "output_type": "stream",
     "text": [
      "----------------------------\n",
      "Quintero :\n"
     ]
    },
    {
     "data": {
      "text/plain": [
       "array([97836, 97881])"
      ]
     },
     "execution_count": 18,
     "metadata": {},
     "output_type": "execute_result"
    },
    {
     "data": {
      "text/plain": [
       "Enfermera Francisca Lira    1\n",
       "TP Javier Altamirano        1\n",
       "Name: Interventor, dtype: int64"
      ]
     },
     "execution_count": 18,
     "metadata": {},
     "output_type": "execute_result"
    },
    {
     "name": "stdout",
     "output_type": "stream",
     "text": [
      "----------------------------\n",
      "Viña del Mar :\n"
     ]
    },
    {
     "data": {
      "text/plain": [
       "array([ 97801,  97837,  97891,  97962,  98031,  98087,  98150, 100248,\n",
       "       100209])"
      ]
     },
     "execution_count": 18,
     "metadata": {},
     "output_type": "execute_result"
    },
    {
     "data": {
      "text/plain": [
       "TP Daniel Flores                                       2\n",
       "Enfermera Nicole Barrera                               2\n",
       "TP Sebastian Ahumada                                   1\n",
       "Enfermero Victor Martínez/ Médico Sebastián Wiedman    1\n",
       "TP Diego Fernandez                                     1\n",
       "TP Francisco Diaz                                      1\n",
       "TP Freddy San Martin                                   1\n",
       "Name: Interventor, dtype: int64"
      ]
     },
     "execution_count": 18,
     "metadata": {},
     "output_type": "execute_result"
    },
    {
     "name": "stdout",
     "output_type": "stream",
     "text": [
      "----------------------------\n",
      "Quillota :\n"
     ]
    },
    {
     "data": {
      "text/plain": [
       "array([ 98080, 100240])"
      ]
     },
     "execution_count": 18,
     "metadata": {},
     "output_type": "execute_result"
    },
    {
     "data": {
      "text/plain": [
       "TP Verónica Laffi Marambio    1\n",
       "Enfermera Cherie Caballero    1\n",
       "Name: Interventor, dtype: int64"
      ]
     },
     "execution_count": 18,
     "metadata": {},
     "output_type": "execute_result"
    }
   ],
   "source": [
    "var = 'Prestación 1ria/2ria registrada'\n",
    "SMUR = calidad[calidad[var] == 'No']['Base intervención'].dropna().unique()\n",
    "\n",
    "calidad[var].value_counts()\n",
    "calidad[calidad[var] == 'No']['Base intervención'].value_counts()\n",
    "for base in SMUR:\n",
    "    print('----------------------------')\n",
    "    print(base, ':')\n",
    "    calidad[calidad[var] == 'No'].groupby('Base intervención')['N° REM'].get_group(base).values\n",
    "    calidad[calidad[var] == 'No'].groupby('Base intervención')['Interventor'].get_group(base).value_counts()"
   ]
  },
  {
   "cell_type": "code",
   "execution_count": null,
   "metadata": {
    "collapsed": true
   },
   "outputs": [],
   "source": []
  },
  {
   "cell_type": "markdown",
   "metadata": {},
   "source": [
    "### CSV registrado\n",
    "\n",
    "Quiénes no lo hicieron?\n",
    "\n",
    "Cuales fueron esos REM?"
   ]
  },
  {
   "cell_type": "code",
   "execution_count": 19,
   "metadata": {
    "scrolled": true
   },
   "outputs": [
    {
     "data": {
      "text/plain": [
       "Sí         38\n",
       "No         12\n",
       "<vacio>     3\n",
       "Name: CSV registrado, dtype: int64"
      ]
     },
     "execution_count": 19,
     "metadata": {},
     "output_type": "execute_result"
    },
    {
     "data": {
      "text/plain": [
       "Viña del Mar    7\n",
       "Quintero        4\n",
       "Quillota        1\n",
       "Name: Base intervención, dtype: int64"
      ]
     },
     "execution_count": 19,
     "metadata": {},
     "output_type": "execute_result"
    },
    {
     "name": "stdout",
     "output_type": "stream",
     "text": [
      "----------------------------\n",
      "Quintero :\n"
     ]
    },
    {
     "data": {
      "text/plain": [
       "array([ 97836,  97881,  98009, 100167])"
      ]
     },
     "execution_count": 19,
     "metadata": {},
     "output_type": "execute_result"
    },
    {
     "data": {
      "text/plain": [
       "TP Ruth Torres              2\n",
       "Enfermera Francisca Lira    1\n",
       "TP Javier Altamirano        1\n",
       "Name: Interventor, dtype: int64"
      ]
     },
     "execution_count": 19,
     "metadata": {},
     "output_type": "execute_result"
    },
    {
     "name": "stdout",
     "output_type": "stream",
     "text": [
      "----------------------------\n",
      "Viña del Mar :\n"
     ]
    },
    {
     "data": {
      "text/plain": [
       "array([ 97801,  97837,  97891,  98047,  98087, 100248, 100209])"
      ]
     },
     "execution_count": 19,
     "metadata": {},
     "output_type": "execute_result"
    },
    {
     "data": {
      "text/plain": [
       "TP Daniel Flores                                       2\n",
       "TP Diego Fernandez                                     1\n",
       "TP Marco Azocar                                        1\n",
       "Enfermero Victor Martínez/ Médico Sebastián Wiedman    1\n",
       "TP Freddy San Martin                                   1\n",
       "TP Sebastian Ahumada                                   1\n",
       "Name: Interventor, dtype: int64"
      ]
     },
     "execution_count": 19,
     "metadata": {},
     "output_type": "execute_result"
    },
    {
     "name": "stdout",
     "output_type": "stream",
     "text": [
      "----------------------------\n",
      "Quillota :\n"
     ]
    },
    {
     "data": {
      "text/plain": [
       "array([98254])"
      ]
     },
     "execution_count": 19,
     "metadata": {},
     "output_type": "execute_result"
    },
    {
     "data": {
      "text/plain": [
       "Enfermero Eleazar Navarrete    1\n",
       "Name: Interventor, dtype: int64"
      ]
     },
     "execution_count": 19,
     "metadata": {},
     "output_type": "execute_result"
    }
   ],
   "source": [
    "var = 'CSV registrado'\n",
    "SMUR = calidad[calidad[var] == 'No']['Base intervención'].dropna().unique()\n",
    "\n",
    "calidad[var].value_counts()\n",
    "calidad[calidad[var] == 'No']['Base intervención'].value_counts()\n",
    "for base in SMUR:\n",
    "    print('----------------------------')\n",
    "    print(base, ':')\n",
    "    calidad[calidad[var] == 'No'].groupby('Base intervención')['N° REM'].get_group(base).values\n",
    "    calidad[calidad[var] == 'No'].groupby('Base intervención')['Interventor'].get_group(base).value_counts()"
   ]
  },
  {
   "cell_type": "markdown",
   "metadata": {},
   "source": [
    "### Km inicial y final registrados\n",
    "\n",
    "Quiénes no lo hicieron?\n",
    "\n",
    "Cuales fueron esos REM?"
   ]
  },
  {
   "cell_type": "code",
   "execution_count": 20,
   "metadata": {
    "scrolled": true
   },
   "outputs": [
    {
     "data": {
      "text/plain": [
       "No    29\n",
       "Sí    23\n",
       "Name: Km inicial y final registrados, dtype: int64"
      ]
     },
     "execution_count": 20,
     "metadata": {},
     "output_type": "execute_result"
    },
    {
     "data": {
      "text/plain": [
       "Quintero            10\n",
       "Quillota             9\n",
       "Viña del Mar         9\n",
       "Centro regulador     1\n",
       "Name: Base intervención, dtype: int64"
      ]
     },
     "execution_count": 20,
     "metadata": {},
     "output_type": "execute_result"
    },
    {
     "name": "stdout",
     "output_type": "stream",
     "text": [
      "----------------------------\n",
      "Quillota :\n"
     ]
    },
    {
     "data": {
      "text/plain": [
       "array([ 97913,  97917,  97999,  98042,  98080,  98254,  98318, 100308,\n",
       "       100240])"
      ]
     },
     "execution_count": 20,
     "metadata": {},
     "output_type": "execute_result"
    },
    {
     "data": {
      "text/plain": [
       "Enfermero Miguel Prieto        2\n",
       "Enfermero Eleazar Navarrete    2\n",
       "Enfermero Mauricio Escobar     2\n",
       "TP Verónica Laffi Marambio     1\n",
       "Enfermera Cherie Caballero     1\n",
       "Enfermero Daniel Callejas      1\n",
       "Name: Interventor, dtype: int64"
      ]
     },
     "execution_count": 20,
     "metadata": {},
     "output_type": "execute_result"
    },
    {
     "name": "stdout",
     "output_type": "stream",
     "text": [
      "----------------------------\n",
      "Quintero :\n"
     ]
    },
    {
     "data": {
      "text/plain": [
       "array([ 97835,  97836,  97881,  97948,  98009,  98078,  98185, 100212,\n",
       "       100203, 100167])"
      ]
     },
     "execution_count": 20,
     "metadata": {},
     "output_type": "execute_result"
    },
    {
     "data": {
      "text/plain": [
       "Enfermero Danko Andrade     2\n",
       "TP Ruth Torres              2\n",
       "TP Juan Araya               1\n",
       "TP Victoria Cuello          1\n",
       "TP Juan Moreno              1\n",
       "Enfermera Daniela Torres    1\n",
       "TP Javier Altamirano        1\n",
       "Enfermera Francisca Lira    1\n",
       "Name: Interventor, dtype: int64"
      ]
     },
     "execution_count": 20,
     "metadata": {},
     "output_type": "execute_result"
    },
    {
     "name": "stdout",
     "output_type": "stream",
     "text": [
      "----------------------------\n",
      "Viña del Mar :\n"
     ]
    },
    {
     "data": {
      "text/plain": [
       "array([ 97801,  97837,  97891,  98087,  98112,  98150, 100265, 100248,\n",
       "       100209])"
      ]
     },
     "execution_count": 20,
     "metadata": {},
     "output_type": "execute_result"
    },
    {
     "data": {
      "text/plain": [
       "TP Daniel Flores                                       2\n",
       "TP Sebastian Ahumada                                   1\n",
       "Enfermero Victor Martínez/ Médico Sebastián Wiedman    1\n",
       "Enfermero Erick Zúñiga                                 1\n",
       "Enfermero Aldo Molina                                  1\n",
       "TP Diego Fernandez                                     1\n",
       "TP Francisco Diaz                                      1\n",
       "TP Freddy San Martin                                   1\n",
       "Name: Interventor, dtype: int64"
      ]
     },
     "execution_count": 20,
     "metadata": {},
     "output_type": "execute_result"
    },
    {
     "name": "stdout",
     "output_type": "stream",
     "text": [
      "----------------------------\n",
      "Centro regulador :\n"
     ]
    },
    {
     "data": {
      "text/plain": [
       "array([98195])"
      ]
     },
     "execution_count": 20,
     "metadata": {},
     "output_type": "execute_result"
    },
    {
     "data": {
      "text/plain": [
       "TP David Rojo    1\n",
       "Name: Interventor, dtype: int64"
      ]
     },
     "execution_count": 20,
     "metadata": {},
     "output_type": "execute_result"
    }
   ],
   "source": [
    "var = 'Km inicial y final registrados'\n",
    "SMUR = calidad[calidad[var] == 'No']['Base intervención'].dropna().unique()\n",
    "\n",
    "calidad[var].value_counts()\n",
    "calidad[calidad[var] == 'No']['Base intervención'].value_counts()\n",
    "for base in SMUR:\n",
    "    print('----------------------------')\n",
    "    print(base, ':')\n",
    "    calidad[calidad[var] == 'No'].groupby('Base intervención')['N° REM'].get_group(base).values\n",
    "    calidad[calidad[var] == 'No'].groupby('Base intervención')['Interventor'].get_group(base).value_counts()"
   ]
  }
 ],
 "metadata": {
  "kernelspec": {
   "display_name": "Python 3",
   "language": "python",
   "name": "python3"
  },
  "language_info": {
   "codemirror_mode": {
    "name": "ipython",
    "version": 3
   },
   "file_extension": ".py",
   "mimetype": "text/x-python",
   "name": "python",
   "nbconvert_exporter": "python",
   "pygments_lexer": "ipython3",
   "version": "3.6.3"
  }
 },
 "nbformat": 4,
 "nbformat_minor": 2
}
